{
 "cells": [
  {
   "cell_type": "code",
   "execution_count": 138,
   "metadata": {},
   "outputs": [],
   "source": [
    "import numpy as np\n",
    "import pandas as pd\n",
    "import os\n",
    "import nltk\n",
    "import gensim\n",
    "path = os.getcwd()\n",
    "\n",
    "save_model_name = 'd2v_not_del.model'\n",
    "saved_path = path + \"/d2v_not_del.model.bin\""
   ]
  },
  {
   "cell_type": "code",
   "execution_count": 2,
   "metadata": {},
   "outputs": [],
   "source": [
    "# model = gensim.models.doc2vec.Doc2Vec.load(saved_path)"
   ]
  },
  {
   "cell_type": "code",
   "execution_count": 124,
   "metadata": {},
   "outputs": [],
   "source": [
    "lyrics = pd.read_csv(path + '\\\\trainSet_not_deleted.csv')"
   ]
  },
  {
   "cell_type": "code",
   "execution_count": 129,
   "metadata": {},
   "outputs": [
    {
     "data": {
      "text/html": [
       "<div>\n",
       "<style scoped>\n",
       "    .dataframe tbody tr th:only-of-type {\n",
       "        vertical-align: middle;\n",
       "    }\n",
       "\n",
       "    .dataframe tbody tr th {\n",
       "        vertical-align: top;\n",
       "    }\n",
       "\n",
       "    .dataframe thead th {\n",
       "        text-align: right;\n",
       "    }\n",
       "</style>\n",
       "<table border=\"1\" class=\"dataframe\">\n",
       "  <thead>\n",
       "    <tr style=\"text-align: right;\">\n",
       "      <th></th>\n",
       "      <th>lyrics</th>\n",
       "      <th>singer</th>\n",
       "      <th>song_name</th>\n",
       "      <th>type</th>\n",
       "    </tr>\n",
       "  </thead>\n",
       "  <tbody>\n",
       "    <tr>\n",
       "      <th>0</th>\n",
       "      <td>走 的 路 吹 的 风去 哪里 听的歌 看 的 戏 被 暂停 你 借 我 的 手套 没有 甚...</td>\n",
       "      <td>阿杜</td>\n",
       "      <td>挂失</td>\n",
       "      <td>NaN</td>\n",
       "    </tr>\n",
       "    <tr>\n",
       "      <th>1</th>\n",
       "      <td>深 了 的 夜 只 剩下 黑 黑色 的 瞳孔 剩下 一种 疲惫 我 呼唤 着 你 一遍 又 ...</td>\n",
       "      <td>阿杜</td>\n",
       "      <td>惩罚</td>\n",
       "      <td>NaN</td>\n",
       "    </tr>\n",
       "    <tr>\n",
       "      <th>2</th>\n",
       "      <td>我 在 你 眼里 你 坐在 那里 空间 是 一种 距离 呼吸 很 沉重 音乐 闹哄哄 我 努...</td>\n",
       "      <td>阿杜</td>\n",
       "      <td>一首情歌</td>\n",
       "      <td>NaN</td>\n",
       "    </tr>\n",
       "    <tr>\n",
       "      <th>3</th>\n",
       "      <td>爱字 怎么 写 分手 后 又 过 了 几个 夜 还是 一个 人 的 回家 的 地铁 我 把 ...</td>\n",
       "      <td>阿杜</td>\n",
       "      <td>爱字怎么写</td>\n",
       "      <td>NaN</td>\n",
       "    </tr>\n",
       "    <tr>\n",
       "      <th>4</th>\n",
       "      <td>别 对 人 说 因为 我 觉得 人们 会 冷冷的 不 看好 结果 该 如何 接著 说 在 这...</td>\n",
       "      <td>阿杜</td>\n",
       "      <td>幻想</td>\n",
       "      <td>NaN</td>\n",
       "    </tr>\n",
       "  </tbody>\n",
       "</table>\n",
       "</div>"
      ],
      "text/plain": [
       "                                              lyrics singer song_name type\n",
       "0  走 的 路 吹 的 风去 哪里 听的歌 看 的 戏 被 暂停 你 借 我 的 手套 没有 甚...     阿杜        挂失  NaN\n",
       "1  深 了 的 夜 只 剩下 黑 黑色 的 瞳孔 剩下 一种 疲惫 我 呼唤 着 你 一遍 又 ...     阿杜        惩罚  NaN\n",
       "2  我 在 你 眼里 你 坐在 那里 空间 是 一种 距离 呼吸 很 沉重 音乐 闹哄哄 我 努...     阿杜      一首情歌  NaN\n",
       "3  爱字 怎么 写 分手 后 又 过 了 几个 夜 还是 一个 人 的 回家 的 地铁 我 把 ...     阿杜     爱字怎么写  NaN\n",
       "4  别 对 人 说 因为 我 觉得 人们 会 冷冷的 不 看好 结果 该 如何 接著 说 在 这...     阿杜        幻想  NaN"
      ]
     },
     "execution_count": 129,
     "metadata": {},
     "output_type": "execute_result"
    }
   ],
   "source": [
    "lyrics.head()"
   ]
  },
  {
   "cell_type": "code",
   "execution_count": 114,
   "metadata": {},
   "outputs": [],
   "source": [
    "d2v_data = pd.Series(lyrics.iloc[:, 0])\n",
    "\n",
    "def trans2vec(d2v_data):\n",
    "    train = []\n",
    "    for i, s in enumerate(d2v_data):\n",
    "        tokens = s.split(' ')\n",
    "        train_sentences = gensim.models.doc2vec.TaggedDocument(tokens, [i])\n",
    "        train.append(train_sentences)\n",
    "    return train\n",
    "\n",
    "train_corpus = trans2vec(d2v_data)"
   ]
  },
  {
   "cell_type": "code",
   "execution_count": 115,
   "metadata": {
    "scrolled": true
   },
   "outputs": [],
   "source": [
    "# model.infer_vector(train_corpus[10].words)\n",
    "\n",
    "# model.docvecs[10]"
   ]
  },
  {
   "cell_type": "code",
   "execution_count": null,
   "metadata": {},
   "outputs": [],
   "source": [
    "# id = lyrics.loc[lyrics['song_name'] == songs_name].index.tolist()"
   ]
  },
  {
   "cell_type": "code",
   "execution_count": 116,
   "metadata": {},
   "outputs": [],
   "source": [
    "# 训练模型\n",
    "model = gensim.models.doc2vec.Doc2Vec(train_corpus,vector_size=50,negative=0, min_count=2, epochs=40)\n",
    "\n",
    "model.train(train_corpus,total_examples=model.corpus_count,epochs=model.epochs)\n",
    "\n",
    "model.save(saved_path)"
   ]
  },
  {
   "cell_type": "code",
   "execution_count": 125,
   "metadata": {
    "scrolled": true
   },
   "outputs": [],
   "source": [
    "test = []\n",
    "for i in range(len(lyrics)):\n",
    "    test.append([[i for i in model.docvecs[i]], lyrics.iloc[i,1], lyrics.iloc[i,2], lyrics.iloc[i,3]])\n",
    "# print(test)\n",
    "\n",
    "test1 = pd.DataFrame(test)"
   ]
  },
  {
   "cell_type": "code",
   "execution_count": 126,
   "metadata": {},
   "outputs": [],
   "source": [
    "test1.to_csv('lyrics_vec_not_deleted.csv')"
   ]
  },
  {
   "cell_type": "code",
   "execution_count": 130,
   "metadata": {},
   "outputs": [
    {
     "data": {
      "text/html": [
       "<div>\n",
       "<style scoped>\n",
       "    .dataframe tbody tr th:only-of-type {\n",
       "        vertical-align: middle;\n",
       "    }\n",
       "\n",
       "    .dataframe tbody tr th {\n",
       "        vertical-align: top;\n",
       "    }\n",
       "\n",
       "    .dataframe thead th {\n",
       "        text-align: right;\n",
       "    }\n",
       "</style>\n",
       "<table border=\"1\" class=\"dataframe\">\n",
       "  <thead>\n",
       "    <tr style=\"text-align: right;\">\n",
       "      <th></th>\n",
       "      <th>0</th>\n",
       "      <th>1</th>\n",
       "      <th>2</th>\n",
       "      <th>3</th>\n",
       "    </tr>\n",
       "  </thead>\n",
       "  <tbody>\n",
       "    <tr>\n",
       "      <th>0</th>\n",
       "      <td>[-0.00607428, 0.0026634822, 0.009231789, 0.007...</td>\n",
       "      <td>阿杜</td>\n",
       "      <td>挂失</td>\n",
       "      <td>NaN</td>\n",
       "    </tr>\n",
       "    <tr>\n",
       "      <th>1</th>\n",
       "      <td>[0.005062786, -0.005704294, -0.0021793367, -0....</td>\n",
       "      <td>阿杜</td>\n",
       "      <td>惩罚</td>\n",
       "      <td>NaN</td>\n",
       "    </tr>\n",
       "    <tr>\n",
       "      <th>2</th>\n",
       "      <td>[0.007025524, 0.0004007176, 0.007272818, -0.00...</td>\n",
       "      <td>阿杜</td>\n",
       "      <td>一首情歌</td>\n",
       "      <td>NaN</td>\n",
       "    </tr>\n",
       "    <tr>\n",
       "      <th>3</th>\n",
       "      <td>[0.001188799, 0.00255702, 0.009581033, 0.00511...</td>\n",
       "      <td>阿杜</td>\n",
       "      <td>爱字怎么写</td>\n",
       "      <td>NaN</td>\n",
       "    </tr>\n",
       "    <tr>\n",
       "      <th>4</th>\n",
       "      <td>[-0.0035418367, -0.0016833834, 0.004921738, -0...</td>\n",
       "      <td>阿杜</td>\n",
       "      <td>幻想</td>\n",
       "      <td>NaN</td>\n",
       "    </tr>\n",
       "  </tbody>\n",
       "</table>\n",
       "</div>"
      ],
      "text/plain": [
       "                                                   0   1      2    3\n",
       "0  [-0.00607428, 0.0026634822, 0.009231789, 0.007...  阿杜     挂失  NaN\n",
       "1  [0.005062786, -0.005704294, -0.0021793367, -0....  阿杜     惩罚  NaN\n",
       "2  [0.007025524, 0.0004007176, 0.007272818, -0.00...  阿杜   一首情歌  NaN\n",
       "3  [0.001188799, 0.00255702, 0.009581033, 0.00511...  阿杜  爱字怎么写  NaN\n",
       "4  [-0.0035418367, -0.0016833834, 0.004921738, -0...  阿杜     幻想  NaN"
      ]
     },
     "execution_count": 130,
     "metadata": {},
     "output_type": "execute_result"
    }
   ],
   "source": [
    "test1.head()"
   ]
  },
  {
   "cell_type": "code",
   "execution_count": 27,
   "metadata": {},
   "outputs": [],
   "source": [
    "# model = gensim.models.doc2vec.Doc2Vec.load(saved_path)\n",
    "\n",
    "def recom_music(doc_id):\n",
    "#     doc_id = np.random.randint(model.docvecs.count)\n",
    "#     print('for doc %d...' % doc_id)\n",
    "    inferred_docvec = model.infer_vector(train_corpus[doc_id].words)\n",
    "    sim_songs = model.docvecs.most_similar([inferred_docvec], topn=5)\n",
    "    return sim_songs\n",
    "#     print('%s:\\n %s ' % (model, sim_songs))\n",
    "#     print(lyrics.iloc[doc_id])\n",
    "#     print(lyrics.iloc[sim_songs[1][0]])\n",
    "\n",
    "recom_music(4330)"
   ]
  },
  {
   "cell_type": "code",
   "execution_count": 94,
   "metadata": {},
   "outputs": [
    {
     "data": {
      "text/plain": [
       "str"
      ]
     },
     "execution_count": 94,
     "metadata": {},
     "output_type": "execute_result"
    }
   ],
   "source": [
    "type(str(test1.iloc[0,0]))"
   ]
  },
  {
   "cell_type": "code",
   "execution_count": 135,
   "metadata": {},
   "outputs": [],
   "source": [
    "lyrics_vec_not_deleted = pd.read_csv('lyrics_vec_deleted.csv')\n",
    "\n",
    "lyrics_vec_not_deleted.drop('Unnamed: 0',axis=1,inplace=True)"
   ]
  },
  {
   "cell_type": "code",
   "execution_count": 127,
   "metadata": {},
   "outputs": [
    {
     "data": {
      "text/plain": [
       "(12917, 4)"
      ]
     },
     "execution_count": 127,
     "metadata": {},
     "output_type": "execute_result"
    }
   ],
   "source": [
    "lyrics_vec_not_deleted.shape"
   ]
  },
  {
   "cell_type": "code",
   "execution_count": 125,
   "metadata": {},
   "outputs": [
    {
     "data": {
      "text/plain": [
       "(12975, 4)"
      ]
     },
     "execution_count": 125,
     "metadata": {},
     "output_type": "execute_result"
    }
   ],
   "source": [
    "lyrics_vec_not_deleted.shape"
   ]
  },
  {
   "cell_type": "code",
   "execution_count": 136,
   "metadata": {},
   "outputs": [],
   "source": [
    "lyrics_vec_not_deleted_cla = lyrics_vec_not_deleted.dropna(axis=0,how='any') "
   ]
  },
  {
   "cell_type": "code",
   "execution_count": 134,
   "metadata": {},
   "outputs": [
    {
     "data": {
      "text/html": [
       "<div>\n",
       "<style scoped>\n",
       "    .dataframe tbody tr th:only-of-type {\n",
       "        vertical-align: middle;\n",
       "    }\n",
       "\n",
       "    .dataframe tbody tr th {\n",
       "        vertical-align: top;\n",
       "    }\n",
       "\n",
       "    .dataframe thead th {\n",
       "        text-align: right;\n",
       "    }\n",
       "</style>\n",
       "<table border=\"1\" class=\"dataframe\">\n",
       "  <thead>\n",
       "    <tr style=\"text-align: right;\">\n",
       "      <th></th>\n",
       "      <th>0</th>\n",
       "      <th>1</th>\n",
       "      <th>2</th>\n",
       "      <th>3</th>\n",
       "    </tr>\n",
       "  </thead>\n",
       "  <tbody>\n",
       "    <tr>\n",
       "      <th>9476</th>\n",
       "      <td>[0.0049766717, -0.00958212, 0.00713764, 0.0036...</td>\n",
       "      <td>Supper Moment</td>\n",
       "      <td>幸福之歌</td>\n",
       "      <td>甜蜜</td>\n",
       "    </tr>\n",
       "    <tr>\n",
       "      <th>9477</th>\n",
       "      <td>[-0.008427841, -0.0018447803, -0.0014904555, -...</td>\n",
       "      <td>古巨基</td>\n",
       "      <td>我与你</td>\n",
       "      <td>甜蜜</td>\n",
       "    </tr>\n",
       "    <tr>\n",
       "      <th>9478</th>\n",
       "      <td>[-0.009096076, -0.005353038, -0.0027287279, -0...</td>\n",
       "      <td>陈凯彤</td>\n",
       "      <td>小确幸</td>\n",
       "      <td>甜蜜</td>\n",
       "    </tr>\n",
       "    <tr>\n",
       "      <th>9479</th>\n",
       "      <td>[0.0061090607, -0.0067125894, -9.0537644e-05, ...</td>\n",
       "      <td>吴业坤</td>\n",
       "      <td>阳光点的歌</td>\n",
       "      <td>甜蜜</td>\n",
       "    </tr>\n",
       "    <tr>\n",
       "      <th>9480</th>\n",
       "      <td>[-0.0006269691, 0.007059392, 0.0059322626, 0.0...</td>\n",
       "      <td>彭永琛</td>\n",
       "      <td>恋爱巷</td>\n",
       "      <td>甜蜜</td>\n",
       "    </tr>\n",
       "  </tbody>\n",
       "</table>\n",
       "</div>"
      ],
      "text/plain": [
       "                                                      0              1      2  \\\n",
       "9476  [0.0049766717, -0.00958212, 0.00713764, 0.0036...  Supper Moment   幸福之歌   \n",
       "9477  [-0.008427841, -0.0018447803, -0.0014904555, -...            古巨基    我与你   \n",
       "9478  [-0.009096076, -0.005353038, -0.0027287279, -0...            陈凯彤   小确幸    \n",
       "9479  [0.0061090607, -0.0067125894, -9.0537644e-05, ...            吴业坤  阳光点的歌   \n",
       "9480  [-0.0006269691, 0.007059392, 0.0059322626, 0.0...            彭永琛    恋爱巷   \n",
       "\n",
       "       3  \n",
       "9476  甜蜜  \n",
       "9477  甜蜜  \n",
       "9478  甜蜜  \n",
       "9479  甜蜜  \n",
       "9480  甜蜜  "
      ]
     },
     "execution_count": 134,
     "metadata": {},
     "output_type": "execute_result"
    }
   ],
   "source": [
    "lyrics_vec_not_deleted_cla.head()"
   ]
  },
  {
   "cell_type": "code",
   "execution_count": 137,
   "metadata": {},
   "outputs": [
    {
     "data": {
      "text/html": [
       "<div>\n",
       "<style scoped>\n",
       "    .dataframe tbody tr th:only-of-type {\n",
       "        vertical-align: middle;\n",
       "    }\n",
       "\n",
       "    .dataframe tbody tr th {\n",
       "        vertical-align: top;\n",
       "    }\n",
       "\n",
       "    .dataframe thead th {\n",
       "        text-align: right;\n",
       "    }\n",
       "</style>\n",
       "<table border=\"1\" class=\"dataframe\">\n",
       "  <thead>\n",
       "    <tr style=\"text-align: right;\">\n",
       "      <th></th>\n",
       "      <th>0</th>\n",
       "      <th>1</th>\n",
       "      <th>2</th>\n",
       "      <th>3</th>\n",
       "    </tr>\n",
       "  </thead>\n",
       "  <tbody>\n",
       "    <tr>\n",
       "      <th>9418</th>\n",
       "      <td>[0.006208882, 0.005844311, 0.0083265, -0.00656...</td>\n",
       "      <td>Supper Moment</td>\n",
       "      <td>幸福之歌</td>\n",
       "      <td>甜蜜</td>\n",
       "    </tr>\n",
       "    <tr>\n",
       "      <th>9419</th>\n",
       "      <td>[-0.0061377916, -0.0019881746, 0.0033986792, -...</td>\n",
       "      <td>古巨基</td>\n",
       "      <td>我与你</td>\n",
       "      <td>甜蜜</td>\n",
       "    </tr>\n",
       "    <tr>\n",
       "      <th>9420</th>\n",
       "      <td>[0.0020136472, 0.006503952, -0.0070731076, 0.0...</td>\n",
       "      <td>陈凯彤</td>\n",
       "      <td>小确幸</td>\n",
       "      <td>甜蜜</td>\n",
       "    </tr>\n",
       "    <tr>\n",
       "      <th>9421</th>\n",
       "      <td>[-0.004688867, 0.005180132, 0.0020372337, -0.0...</td>\n",
       "      <td>吴业坤</td>\n",
       "      <td>阳光点的歌</td>\n",
       "      <td>甜蜜</td>\n",
       "    </tr>\n",
       "    <tr>\n",
       "      <th>9422</th>\n",
       "      <td>[0.0017786963, 0.0051544304, -0.008542721, 0.0...</td>\n",
       "      <td>彭永琛</td>\n",
       "      <td>恋爱巷</td>\n",
       "      <td>甜蜜</td>\n",
       "    </tr>\n",
       "  </tbody>\n",
       "</table>\n",
       "</div>"
      ],
      "text/plain": [
       "                                                      0              1      2  \\\n",
       "9418  [0.006208882, 0.005844311, 0.0083265, -0.00656...  Supper Moment   幸福之歌   \n",
       "9419  [-0.0061377916, -0.0019881746, 0.0033986792, -...            古巨基    我与你   \n",
       "9420  [0.0020136472, 0.006503952, -0.0070731076, 0.0...            陈凯彤   小确幸    \n",
       "9421  [-0.004688867, 0.005180132, 0.0020372337, -0.0...            吴业坤  阳光点的歌   \n",
       "9422  [0.0017786963, 0.0051544304, -0.008542721, 0.0...            彭永琛    恋爱巷   \n",
       "\n",
       "       3  \n",
       "9418  甜蜜  \n",
       "9419  甜蜜  \n",
       "9420  甜蜜  \n",
       "9421  甜蜜  \n",
       "9422  甜蜜  "
      ]
     },
     "execution_count": 137,
     "metadata": {},
     "output_type": "execute_result"
    }
   ],
   "source": [
    "lyrics_vec_not_deleted_cla.head()"
   ]
  },
  {
   "cell_type": "code",
   "execution_count": 108,
   "metadata": {},
   "outputs": [],
   "source": [
    "b = lyrics_vec_not_deleted_cla['0']\n",
    "\n",
    "t = [eval(b.iloc[i]) for i in range(len(b))]\n",
    "\n",
    "a = pd.DataFrame(t, index=b.index)"
   ]
  },
  {
   "cell_type": "code",
   "execution_count": 121,
   "metadata": {},
   "outputs": [],
   "source": [
    "# a.head()"
   ]
  },
  {
   "cell_type": "code",
   "execution_count": 110,
   "metadata": {},
   "outputs": [],
   "source": [
    "cla_not_deleted = pd.merge(lyrics_vec_not_deleted_cla, a, how='left', left_index=True, right_index=True)"
   ]
  },
  {
   "cell_type": "code",
   "execution_count": 118,
   "metadata": {},
   "outputs": [],
   "source": [
    "# cla_not_deleted"
   ]
  },
  {
   "cell_type": "code",
   "execution_count": 112,
   "metadata": {},
   "outputs": [],
   "source": [
    "cla_not_deleted.drop(['0','1','2'],axis=1,inplace=True)"
   ]
  },
  {
   "cell_type": "code",
   "execution_count": 119,
   "metadata": {},
   "outputs": [],
   "source": [
    "# cla_not_deleted"
   ]
  },
  {
   "cell_type": "code",
   "execution_count": 114,
   "metadata": {},
   "outputs": [],
   "source": [
    "cla_not_deleted['3']=cla_not_deleted['3'].replace('兴奋',0)\n",
    "cla_not_deleted['3']=cla_not_deleted['3'].replace('励志',1)\n",
    "cla_not_deleted['3']=cla_not_deleted['3'].replace('心碎',2)\n",
    "cla_not_deleted['3']=cla_not_deleted['3'].replace('快乐',3)\n",
    "cla_not_deleted['3']=cla_not_deleted['3'].replace('抑郁',4)\n",
    "cla_not_deleted['3']=cla_not_deleted['3'].replace('放松',5)\n",
    "cla_not_deleted['3']=cla_not_deleted['3'].replace('清新',6)\n",
    "cla_not_deleted['3']=cla_not_deleted['3'].replace('甜蜜',7)"
   ]
  },
  {
   "cell_type": "code",
   "execution_count": 120,
   "metadata": {},
   "outputs": [],
   "source": [
    "# cla_not_deleted"
   ]
  },
  {
   "cell_type": "code",
   "execution_count": 116,
   "metadata": {},
   "outputs": [
    {
     "data": {
      "text/plain": [
       "(3499, 51)"
      ]
     },
     "execution_count": 116,
     "metadata": {},
     "output_type": "execute_result"
    }
   ],
   "source": [
    "cla_not_deleted.shape"
   ]
  },
  {
   "cell_type": "code",
   "execution_count": 117,
   "metadata": {},
   "outputs": [],
   "source": [
    "cla_not_deleted.to_csv('cla_deleted.csv')"
   ]
  },
  {
   "cell_type": "code",
   "execution_count": null,
   "metadata": {},
   "outputs": [],
   "source": []
  }
 ],
 "metadata": {
  "kernelspec": {
   "display_name": "Python 3",
   "language": "python",
   "name": "python3"
  },
  "language_info": {
   "codemirror_mode": {
    "name": "ipython",
    "version": 3
   },
   "file_extension": ".py",
   "mimetype": "text/x-python",
   "name": "python",
   "nbconvert_exporter": "python",
   "pygments_lexer": "ipython3",
   "version": "3.7.3"
  }
 },
 "nbformat": 4,
 "nbformat_minor": 2
}
