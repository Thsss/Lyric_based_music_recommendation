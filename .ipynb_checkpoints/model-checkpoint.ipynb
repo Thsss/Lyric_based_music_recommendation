{
 "cells": [
  {
   "cell_type": "code",
   "execution_count": 1,
   "metadata": {},
   "outputs": [],
   "source": [
    "import numpy as np\n",
    "import pandas as pd\n",
    "import os\n",
    "import nltk\n",
    "import gensim\n",
    "path = os.getcwd()"
   ]
  },
  {
   "cell_type": "code",
   "execution_count": 2,
   "metadata": {},
   "outputs": [],
   "source": [
    "lyrics = pd.read_csv(path + '\\\\trainSet.csv')"
   ]
  },
  {
   "cell_type": "code",
   "execution_count": 3,
   "metadata": {},
   "outputs": [
    {
     "data": {
      "text/plain": [
       "(10104, 2)"
      ]
     },
     "execution_count": 3,
     "metadata": {},
     "output_type": "execute_result"
    }
   ],
   "source": [
    "lyrics.shape"
   ]
  },
  {
   "cell_type": "code",
   "execution_count": 4,
   "metadata": {},
   "outputs": [],
   "source": [
    "# \n",
    "d2v_data = pd.Series(lyrics.iloc[:, 0])\n",
    "\n",
    "def trans2vec(d2v_data):\n",
    "    train = []\n",
    "    for i, s in enumerate(d2v_data):\n",
    "        tokens = s.split(' ')\n",
    "        train_sentences = gensim.models.doc2vec.TaggedDocument(tokens, [i])\n",
    "        train.append(train_sentences)\n",
    "    return train\n",
    "\n",
    "train_corpus = trans2vec(d2v_data)"
   ]
  },
  {
   "cell_type": "code",
   "execution_count": 5,
   "metadata": {},
   "outputs": [],
   "source": [
    "# 训练模型\n",
    "model = gensim.models.doc2vec.Doc2Vec(train_corpus,vector_size=50, min_count=2, epochs=40)\n",
    "\n",
    "model.train(train_corpus,total_examples=model.corpus_count, epochs=model.epochs)"
   ]
  },
  {
   "cell_type": "code",
   "execution_count": 6,
   "metadata": {},
   "outputs": [],
   "source": [
    "model.save('d2v_model_v2.txt')"
   ]
  },
  {
   "cell_type": "code",
   "execution_count": 8,
   "metadata": {},
   "outputs": [
    {
     "name": "stdout",
     "output_type": "stream",
     "text": [
      "for doc 3447...\n",
      "Doc2Vec(dm/m,d50,n5,w5,mc2,s0.001,t3):\n",
      " [(3447, 0.9860886335372925), (105, 0.6981708407402039), (8471, 0.6972229480743408)] \n",
      "lyrics       手中 雕刻 生花 刀锋 千转 蜿蜒 成画 盛名 功德 塔 桥 畔 某处 春风 绕过 发梢 红...\n",
      "song_name                                                 红昭愿 \n",
      "Name: 3447, dtype: object\n",
      "lyrics       飞云 衔来 旧忆 一晌 斜雨 轻敲 院落 篱墙 穿过 人潮 熙攘 歌楼 戏影 踮脚 张望 一...\n",
      "song_name                                                   与妆\n",
      "Name: 105, dtype: object\n"
     ]
    }
   ],
   "source": [
    "def recom_music():\n",
    "    doc_id = np.random.randint(model.docvecs.count)\n",
    "    print('for doc %d...' % doc_id)\n",
    "\n",
    "    inferred_docvec = model.infer_vector(train_corpus[doc_id].words)\n",
    "    sim_songs = model.docvecs.most_similar([inferred_docvec], topn=3)\n",
    "    print('%s:\\n %s ' % (model, sim_songs))\n",
    "    print(lyrics.iloc[doc_id])\n",
    "    print(lyrics.iloc[sim_songs[1][0]])"
   ]
  },
  {
   "cell_type": "code",
   "execution_count": 50,
   "metadata": {},
   "outputs": [
    {
     "data": {
      "text/plain": [
       "lyrics       杨 花落 子规 啼 闻道龙 标过 五溪 寄愁 心 明月 随风 直到 夜郎 西 相逢 别离 迢...\n",
       "song_name                                             杨花落尽子规啼 \n",
       "Name: 4330, dtype: object"
      ]
     },
     "execution_count": 50,
     "metadata": {},
     "output_type": "execute_result"
    }
   ],
   "source": [
    "lyrics.iloc[4330]"
   ]
  },
  {
   "cell_type": "code",
   "execution_count": null,
   "metadata": {},
   "outputs": [],
   "source": []
  }
 ],
 "metadata": {
  "kernelspec": {
   "display_name": "Python 3",
   "language": "python",
   "name": "python3"
  },
  "language_info": {
   "codemirror_mode": {
    "name": "ipython",
    "version": 3
   },
   "file_extension": ".py",
   "mimetype": "text/x-python",
   "name": "python",
   "nbconvert_exporter": "python",
   "pygments_lexer": "ipython3",
   "version": "3.7.3"
  }
 },
 "nbformat": 4,
 "nbformat_minor": 2
}
