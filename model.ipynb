{
 "cells": [
  {
   "cell_type": "code",
   "execution_count": 1,
   "metadata": {},
   "outputs": [],
   "source": [
    "import numpy as np\n",
    "import pandas as pd\n",
    "import os\n",
    "import nltk\n",
    "import gensim\n",
    "path = os.getcwd()\n",
    "\n",
    "save_model_name = 'd2v_10k.model'\n",
    "saved_path = path + \"/d2v_10k.model.bin\""
   ]
  },
  {
   "cell_type": "code",
   "execution_count": 2,
   "metadata": {},
   "outputs": [],
   "source": [
    "lyrics = pd.read_csv(path + '\\\\trainSet_new.csv')\n",
    "\n",
    "d2v_data = pd.Series(lyrics.iloc[:, 0])\n",
    "\n",
    "def trans2vec(d2v_data):\n",
    "    train = []\n",
    "    for i, s in enumerate(d2v_data):\n",
    "        tokens = s.split(' ')\n",
    "        train_sentences = gensim.models.doc2vec.TaggedDocument(tokens, [i])\n",
    "        train.append(train_sentences)\n",
    "    return train\n",
    "\n",
    "train_corpus = trans2vec(d2v_data)"
   ]
  },
  {
   "cell_type": "code",
   "execution_count": null,
   "metadata": {},
   "outputs": [],
   "source": [
    "lyrics.head()"
   ]
  },
  {
   "cell_type": "code",
   "execution_count": null,
   "metadata": {},
   "outputs": [],
   "source": [
    "songs_name = input()"
   ]
  },
  {
   "cell_type": "code",
   "execution_count": null,
   "metadata": {},
   "outputs": [],
   "source": [
    "lyrics[lyrics['song_name'] == 'Datlirimni kimga tokay']"
   ]
  },
  {
   "cell_type": "code",
   "execution_count": null,
   "metadata": {},
   "outputs": [],
   "source": [
    "songs_name"
   ]
  },
  {
   "cell_type": "code",
   "execution_count": null,
   "metadata": {},
   "outputs": [],
   "source": [
    "id = lyrics.loc[lyrics['song_name'] == songs_name].index.tolist()"
   ]
  },
  {
   "cell_type": "code",
   "execution_count": null,
   "metadata": {
    "scrolled": true
   },
   "outputs": [],
   "source": [
    "id[0]"
   ]
  },
  {
   "cell_type": "code",
   "execution_count": null,
   "metadata": {},
   "outputs": [],
   "source": [
    "lyrics.head()"
   ]
  },
  {
   "cell_type": "code",
   "execution_count": 3,
   "metadata": {},
   "outputs": [],
   "source": [
    "# 训练模型\n",
    "model = gensim.models.doc2vec.Doc2Vec(train_corpus,vector_size=50, min_count=2, epochs=40)\n",
    "\n",
    "model.train(train_corpus,total_examples=model.corpus_count, epochs=model.epochs)"
   ]
  },
  {
   "cell_type": "code",
   "execution_count": 4,
   "metadata": {},
   "outputs": [],
   "source": [
    "model.save(saved_path)"
   ]
  },
  {
   "cell_type": "code",
   "execution_count": null,
   "metadata": {},
   "outputs": [],
   "source": [
    "model = gensim.models.doc2vec.Doc2Vec.load(saved_path)\n",
    "\n",
    "def recom_music(doc_id):\n",
    "#     doc_id = np.random.randint(model.docvecs.count)\n",
    "#     print('for doc %d...' % doc_id)\n",
    "    inferred_docvec = model.infer_vector(train_corpus[doc_id].words)\n",
    "    sim_songs = model.docvecs.most_similar([inferred_docvec], topn=5)\n",
    "    return sim_songs\n",
    "#     print('%s:\\n %s ' % (model, sim_songs))\n",
    "#     print(lyrics.iloc[doc_id])\n",
    "#     print(lyrics.iloc[sim_songs[1][0]])"
   ]
  },
  {
   "cell_type": "code",
   "execution_count": null,
   "metadata": {},
   "outputs": [],
   "source": [
    "lyrics.iloc[4330]"
   ]
  },
  {
   "cell_type": "code",
   "execution_count": null,
   "metadata": {},
   "outputs": [],
   "source": [
    "recom_music(4330)"
   ]
  },
  {
   "cell_type": "code",
   "execution_count": null,
   "metadata": {},
   "outputs": [],
   "source": []
  }
 ],
 "metadata": {
  "kernelspec": {
   "display_name": "Python 3",
   "language": "python",
   "name": "python3"
  },
  "language_info": {
   "codemirror_mode": {
    "name": "ipython",
    "version": 3
   },
   "file_extension": ".py",
   "mimetype": "text/x-python",
   "name": "python",
   "nbconvert_exporter": "python",
   "pygments_lexer": "ipython3",
   "version": "3.7.3"
  }
 },
 "nbformat": 4,
 "nbformat_minor": 2
}
