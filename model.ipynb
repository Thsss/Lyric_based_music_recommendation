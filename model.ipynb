{
 "cells": [
  {
   "cell_type": "code",
   "execution_count": 1,
   "metadata": {},
   "outputs": [],
   "source": [
    "import numpy as np\n",
    "import pandas as pd\n",
    "import os\n",
    "import nltk\n",
    "import gensim\n",
    "path = os.getcwd()\n",
    "\n",
    "save_model_name = 'doc2vec_v2.model'\n",
    "saved_path = path + \"/doc2vec_v2.model.bin\""
   ]
  },
  {
   "cell_type": "code",
   "execution_count": 2,
   "metadata": {},
   "outputs": [],
   "source": [
    "lyrics = pd.read_csv(path + '\\\\trainSet_new.csv')\n",
    "\n",
    "d2v_data = pd.Series(lyrics.iloc[:, 0])\n",
    "\n",
    "def trans2vec(d2v_data):\n",
    "    train = []\n",
    "    for i, s in enumerate(d2v_data):\n",
    "        tokens = s.split(' ')\n",
    "        train_sentences = gensim.models.doc2vec.TaggedDocument(tokens, [i])\n",
    "        train.append(train_sentences)\n",
    "    return train\n",
    "\n",
    "train_corpus = trans2vec(d2v_data)"
   ]
  },
  {
   "cell_type": "code",
   "execution_count": 3,
   "metadata": {},
   "outputs": [
    {
     "data": {
      "text/html": [
       "<div>\n",
       "<style scoped>\n",
       "    .dataframe tbody tr th:only-of-type {\n",
       "        vertical-align: middle;\n",
       "    }\n",
       "\n",
       "    .dataframe tbody tr th {\n",
       "        vertical-align: top;\n",
       "    }\n",
       "\n",
       "    .dataframe thead th {\n",
       "        text-align: right;\n",
       "    }\n",
       "</style>\n",
       "<table border=\"1\" class=\"dataframe\">\n",
       "  <thead>\n",
       "    <tr style=\"text-align: right;\">\n",
       "      <th></th>\n",
       "      <th>lyrics</th>\n",
       "      <th>singer</th>\n",
       "      <th>song_name</th>\n",
       "    </tr>\n",
       "  </thead>\n",
       "  <tbody>\n",
       "    <tr>\n",
       "      <th>0</th>\n",
       "      <td>啦 啦 啦 啦 啦 啦 啦 啦 啦 啦 啦 啦 啦 啦 啦 啦 啦 啦 啦 啦 啦 啦 啦 ...</td>\n",
       "      <td>沈以诚</td>\n",
       "      <td>Intro:乌云</td>\n",
       "    </tr>\n",
       "    <tr>\n",
       "      <th>1</th>\n",
       "      <td>低烧 长伴 着 我 吃 多少 东西 还 不够 不 允许 太 油腻 我 的 辛苦 无人 懂 炸...</td>\n",
       "      <td>沈以诚</td>\n",
       "      <td>突然来的新年</td>\n",
       "    </tr>\n",
       "    <tr>\n",
       "      <th>2</th>\n",
       "      <td>若 遇见 你 便 不由 自己 纵 赤木 成金 也 不朽 不离 又 遇见 你 已 生死相依 纵...</td>\n",
       "      <td>沈以诚</td>\n",
       "      <td>双木</td>\n",
       "    </tr>\n",
       "    <tr>\n",
       "      <th>3</th>\n",
       "      <td>眼前 的 失落 的 言不由衷 放弃 的 片面 的 深刻 的 苟延残喘 剩下 的 你 不 懂 ...</td>\n",
       "      <td>沈以诚</td>\n",
       "      <td>水瓶</td>\n",
       "    </tr>\n",
       "    <tr>\n",
       "      <th>4</th>\n",
       "      <td>一眼 到 白云 蓝天 是 座 城 归途 也 很 明朗 林间 到 溪边 梦境 有些 远 誓言 ...</td>\n",
       "      <td>沈以诚</td>\n",
       "      <td>食草动物</td>\n",
       "    </tr>\n",
       "  </tbody>\n",
       "</table>\n",
       "</div>"
      ],
      "text/plain": [
       "                                              lyrics singer song_name\n",
       "0  啦 啦 啦 啦 啦 啦 啦 啦 啦 啦 啦 啦 啦 啦 啦 啦 啦 啦 啦 啦 啦 啦 啦 ...    沈以诚  Intro:乌云\n",
       "1  低烧 长伴 着 我 吃 多少 东西 还 不够 不 允许 太 油腻 我 的 辛苦 无人 懂 炸...    沈以诚    突然来的新年\n",
       "2  若 遇见 你 便 不由 自己 纵 赤木 成金 也 不朽 不离 又 遇见 你 已 生死相依 纵...    沈以诚        双木\n",
       "3  眼前 的 失落 的 言不由衷 放弃 的 片面 的 深刻 的 苟延残喘 剩下 的 你 不 懂 ...    沈以诚        水瓶\n",
       "4  一眼 到 白云 蓝天 是 座 城 归途 也 很 明朗 林间 到 溪边 梦境 有些 远 誓言 ...    沈以诚      食草动物"
      ]
     },
     "execution_count": 3,
     "metadata": {},
     "output_type": "execute_result"
    }
   ],
   "source": [
    "lyrics.head()"
   ]
  },
  {
   "cell_type": "code",
   "execution_count": 12,
   "metadata": {},
   "outputs": [
    {
     "name": "stdout",
     "output_type": "stream",
     "text": [
      "突然来的新年\n"
     ]
    }
   ],
   "source": [
    "songs_name = input()"
   ]
  },
  {
   "cell_type": "code",
   "execution_count": 25,
   "metadata": {},
   "outputs": [
    {
     "data": {
      "text/plain": [
       "'双木'"
      ]
     },
     "execution_count": 25,
     "metadata": {},
     "output_type": "execute_result"
    }
   ],
   "source": [
    "lyrics['song_name'].iloc[2]"
   ]
  },
  {
   "cell_type": "code",
   "execution_count": 13,
   "metadata": {},
   "outputs": [
    {
     "data": {
      "text/plain": [
       "'突然来的新年'"
      ]
     },
     "execution_count": 13,
     "metadata": {},
     "output_type": "execute_result"
    }
   ],
   "source": [
    "songs_name"
   ]
  },
  {
   "cell_type": "code",
   "execution_count": 18,
   "metadata": {},
   "outputs": [],
   "source": [
    "id = lyrics.loc[lyrics['song_name'] == songs_name].index.tolist()"
   ]
  },
  {
   "cell_type": "code",
   "execution_count": 22,
   "metadata": {
    "scrolled": true
   },
   "outputs": [
    {
     "data": {
      "text/plain": [
       "1"
      ]
     },
     "execution_count": 22,
     "metadata": {},
     "output_type": "execute_result"
    }
   ],
   "source": [
    "id[0]"
   ]
  },
  {
   "cell_type": "code",
   "execution_count": 8,
   "metadata": {},
   "outputs": [
    {
     "data": {
      "text/html": [
       "<div>\n",
       "<style scoped>\n",
       "    .dataframe tbody tr th:only-of-type {\n",
       "        vertical-align: middle;\n",
       "    }\n",
       "\n",
       "    .dataframe tbody tr th {\n",
       "        vertical-align: top;\n",
       "    }\n",
       "\n",
       "    .dataframe thead th {\n",
       "        text-align: right;\n",
       "    }\n",
       "</style>\n",
       "<table border=\"1\" class=\"dataframe\">\n",
       "  <thead>\n",
       "    <tr style=\"text-align: right;\">\n",
       "      <th></th>\n",
       "      <th>lyrics</th>\n",
       "      <th>song_name</th>\n",
       "    </tr>\n",
       "  </thead>\n",
       "  <tbody>\n",
       "    <tr>\n",
       "      <th>0</th>\n",
       "      <td>嘟嘟 嘟嘟 嘟嘟 嘟嘟 嘟嘟 嘟嘟 嘟嘟 嘟嘟 嘟嘟 嘟嘟 嘟嘟 嘟嘟</td>\n",
       "      <td>Intro:乌云</td>\n",
       "    </tr>\n",
       "    <tr>\n",
       "      <th>1</th>\n",
       "      <td>低烧 长伴 吃 东西 不够 允许 太 油腻 辛苦 无人 懂 炸鸡 店 鸡店 关门 拒绝 客人...</td>\n",
       "      <td>突然来的新年</td>\n",
       "    </tr>\n",
       "    <tr>\n",
       "      <th>2</th>\n",
       "      <td>遇见 不由 赤木 成金 不朽 不离 遇见 已 生死相依 青苔 成烬 望断 天 边际 再 遇见...</td>\n",
       "      <td>双木</td>\n",
       "    </tr>\n",
       "    <tr>\n",
       "      <th>3</th>\n",
       "      <td>眼前 失落 言不由衷 放弃 片面 深刻 苟延残喘 剩下 懂 心里 焦 焦躁 不言 不语 反正...</td>\n",
       "      <td>水瓶</td>\n",
       "    </tr>\n",
       "    <tr>\n",
       "      <th>4</th>\n",
       "      <td>一眼 白云 蓝天 座 城 归途 明朗 林间 溪边 梦境 远 誓言 停歇 偏见 执着 遮眼 理...</td>\n",
       "      <td>食草动物</td>\n",
       "    </tr>\n",
       "  </tbody>\n",
       "</table>\n",
       "</div>"
      ],
      "text/plain": [
       "                                              lyrics song_name\n",
       "0               嘟嘟 嘟嘟 嘟嘟 嘟嘟 嘟嘟 嘟嘟 嘟嘟 嘟嘟 嘟嘟 嘟嘟 嘟嘟 嘟嘟   Intro:乌云\n",
       "1  低烧 长伴 吃 东西 不够 允许 太 油腻 辛苦 无人 懂 炸鸡 店 鸡店 关门 拒绝 客人...    突然来的新年\n",
       "2  遇见 不由 赤木 成金 不朽 不离 遇见 已 生死相依 青苔 成烬 望断 天 边际 再 遇见...        双木\n",
       "3  眼前 失落 言不由衷 放弃 片面 深刻 苟延残喘 剩下 懂 心里 焦 焦躁 不言 不语 反正...        水瓶\n",
       "4  一眼 白云 蓝天 座 城 归途 明朗 林间 溪边 梦境 远 誓言 停歇 偏见 执着 遮眼 理...      食草动物"
      ]
     },
     "execution_count": 8,
     "metadata": {},
     "output_type": "execute_result"
    }
   ],
   "source": [
    "lyrics.head()"
   ]
  },
  {
   "cell_type": "code",
   "execution_count": null,
   "metadata": {},
   "outputs": [],
   "source": [
    "# 训练模型\n",
    "model = gensim.models.doc2vec.Doc2Vec(train_corpus,vector_size=50, min_count=2, epochs=40)\n",
    "\n",
    "model.train(train_corpus,total_examples=model.corpus_count, epochs=model.epochs)"
   ]
  },
  {
   "cell_type": "code",
   "execution_count": null,
   "metadata": {},
   "outputs": [],
   "source": [
    "model.save('d2v_model_v2.txt')"
   ]
  },
  {
   "cell_type": "code",
   "execution_count": null,
   "metadata": {},
   "outputs": [],
   "source": [
    "model.save(saved_path)"
   ]
  },
  {
   "cell_type": "code",
   "execution_count": 3,
   "metadata": {},
   "outputs": [],
   "source": [
    "model = gensim.models.doc2vec.Doc2Vec.load(saved_path)\n",
    "\n",
    "def recom_music(doc_id):\n",
    "#     doc_id = np.random.randint(model.docvecs.count)\n",
    "#     print('for doc %d...' % doc_id)\n",
    "    inferred_docvec = model.infer_vector(train_corpus[doc_id].words)\n",
    "    sim_songs = model.docvecs.most_similar([inferred_docvec], topn=5)\n",
    "    return sim_songs\n",
    "#     print('%s:\\n %s ' % (model, sim_songs))\n",
    "#     print(lyrics.iloc[doc_id])\n",
    "#     print(lyrics.iloc[sim_songs[1][0]])"
   ]
  },
  {
   "cell_type": "code",
   "execution_count": null,
   "metadata": {},
   "outputs": [],
   "source": [
    "lyrics.iloc[4330]"
   ]
  },
  {
   "cell_type": "code",
   "execution_count": 4,
   "metadata": {},
   "outputs": [
    {
     "ename": "NameError",
     "evalue": "name 'train_corpus' is not defined",
     "output_type": "error",
     "traceback": [
      "\u001b[1;31m---------------------------------------------------------------------------\u001b[0m",
      "\u001b[1;31mNameError\u001b[0m                                 Traceback (most recent call last)",
      "\u001b[1;32m<ipython-input-4-18c3a5e2cae8>\u001b[0m in \u001b[0;36m<module>\u001b[1;34m\u001b[0m\n\u001b[1;32m----> 1\u001b[1;33m \u001b[0mrecom_music\u001b[0m\u001b[1;33m(\u001b[0m\u001b[1;36m4330\u001b[0m\u001b[1;33m)\u001b[0m\u001b[1;33m\u001b[0m\u001b[1;33m\u001b[0m\u001b[0m\n\u001b[0m",
      "\u001b[1;32m<ipython-input-3-2c7a7225a0aa>\u001b[0m in \u001b[0;36mrecom_music\u001b[1;34m(doc_id)\u001b[0m\n\u001b[0;32m      4\u001b[0m \u001b[1;31m#     doc_id = np.random.randint(model.docvecs.count)\u001b[0m\u001b[1;33m\u001b[0m\u001b[1;33m\u001b[0m\u001b[1;33m\u001b[0m\u001b[0m\n\u001b[0;32m      5\u001b[0m \u001b[1;31m#     print('for doc %d...' % doc_id)\u001b[0m\u001b[1;33m\u001b[0m\u001b[1;33m\u001b[0m\u001b[1;33m\u001b[0m\u001b[0m\n\u001b[1;32m----> 6\u001b[1;33m     \u001b[0minferred_docvec\u001b[0m \u001b[1;33m=\u001b[0m \u001b[0mmodel\u001b[0m\u001b[1;33m.\u001b[0m\u001b[0minfer_vector\u001b[0m\u001b[1;33m(\u001b[0m\u001b[0mtrain_corpus\u001b[0m\u001b[1;33m[\u001b[0m\u001b[0mdoc_id\u001b[0m\u001b[1;33m]\u001b[0m\u001b[1;33m.\u001b[0m\u001b[0mwords\u001b[0m\u001b[1;33m)\u001b[0m\u001b[1;33m\u001b[0m\u001b[1;33m\u001b[0m\u001b[0m\n\u001b[0m\u001b[0;32m      7\u001b[0m     \u001b[0msim_songs\u001b[0m \u001b[1;33m=\u001b[0m \u001b[0mmodel\u001b[0m\u001b[1;33m.\u001b[0m\u001b[0mdocvecs\u001b[0m\u001b[1;33m.\u001b[0m\u001b[0mmost_similar\u001b[0m\u001b[1;33m(\u001b[0m\u001b[1;33m[\u001b[0m\u001b[0minferred_docvec\u001b[0m\u001b[1;33m]\u001b[0m\u001b[1;33m,\u001b[0m \u001b[0mtopn\u001b[0m\u001b[1;33m=\u001b[0m\u001b[1;36m5\u001b[0m\u001b[1;33m)\u001b[0m\u001b[1;33m\u001b[0m\u001b[1;33m\u001b[0m\u001b[0m\n\u001b[0;32m      8\u001b[0m     \u001b[1;32mreturn\u001b[0m \u001b[0msim_songs\u001b[0m\u001b[1;33m\u001b[0m\u001b[1;33m\u001b[0m\u001b[0m\n",
      "\u001b[1;31mNameError\u001b[0m: name 'train_corpus' is not defined"
     ]
    }
   ],
   "source": [
    "recom_music(4330)"
   ]
  },
  {
   "cell_type": "code",
   "execution_count": null,
   "metadata": {},
   "outputs": [],
   "source": []
  }
 ],
 "metadata": {
  "kernelspec": {
   "display_name": "Python 3",
   "language": "python",
   "name": "python3"
  },
  "language_info": {
   "codemirror_mode": {
    "name": "ipython",
    "version": 3
   },
   "file_extension": ".py",
   "mimetype": "text/x-python",
   "name": "python",
   "nbconvert_exporter": "python",
   "pygments_lexer": "ipython3",
   "version": "3.7.3"
  }
 },
 "nbformat": 4,
 "nbformat_minor": 2
}
